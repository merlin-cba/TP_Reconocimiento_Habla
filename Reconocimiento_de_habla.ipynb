{
  "nbformat": 4,
  "nbformat_minor": 0,
  "metadata": {
    "colab": {
      "provenance": [],
      "authorship_tag": "ABX9TyNjnOSoOIOp5wUcA4RIJKr4",
      "include_colab_link": true
    },
    "kernelspec": {
      "name": "python3",
      "display_name": "Python 3"
    },
    "language_info": {
      "name": "python"
    }
  },
  "cells": [
    {
      "cell_type": "markdown",
      "metadata": {
        "id": "view-in-github",
        "colab_type": "text"
      },
      "source": [
        "<a href=\"https://colab.research.google.com/github/merlin-cba/TP_Reconocimiento_Habla/blob/main/Reconocimiento_de_habla.ipynb\" target=\"_parent\"><img src=\"https://colab.research.google.com/assets/colab-badge.svg\" alt=\"Open In Colab\"/></a>"
      ]
    },
    {
      "cell_type": "code",
      "execution_count": null,
      "metadata": {
        "id": "MVv8BvHWd1c-"
      },
      "outputs": [],
      "source": [
        "!apt-get install espeak\n"
      ]
    },
    {
      "cell_type": "code",
      "source": [
        "!pip install pyttsx3\n"
      ],
      "metadata": {
        "id": "kiAB2yDK5yu2"
      },
      "execution_count": null,
      "outputs": []
    },
    {
      "cell_type": "code",
      "source": [
        "import pyttsx3\n",
        "\n",
        "# Instanciar el objeto de la librería pyttsx3\n",
        "engine = pyttsx3.init()\n",
        "\n",
        "# Establecer la configuración de la voz\n",
        "voices = engine.getProperty('voices')\n",
        "engine.setProperty('voice', voices[1].id)  # Escoger una voz en español\n",
        "\n",
        "# Configurar la salida de audio para que funcione en Colab\n",
        "engine.setProperty('audioDriver', 'alsa')\n",
        "\n",
        "# Desactivar la opción de espera de eventos\n",
        "engine.setProperty('blocking', False)\n",
        "\n",
        "# Generar voz a partir de un texto\n",
        "texto = \"Hola, soy una voz generada por Python\"\n",
        "engine.say(texto)\n",
        "engine.runAndWait()\n",
        "engine.save_to_file('Hola, soy una voz generada por Python', 'output.wav')"
      ],
      "metadata": {
        "id": "040cactweheI"
      },
      "execution_count": null,
      "outputs": []
    },
    {
      "cell_type": "code",
      "source": [
        "!wget https://github.com/Jakobovski/free-spoken-digit-dataset/archive/refs/heads/master.zip\n",
        "!unzip master.zip"
      ],
      "metadata": {
        "id": "J2fKsJhJFSk1"
      },
      "execution_count": null,
      "outputs": []
    },
    {
      "cell_type": "code",
      "source": [
        "import os\n",
        "import numpy as np\n",
        "import librosa\n",
        "import tensorflow as tf\n",
        "from sklearn.model_selection import train_test_split\n",
        "\n",
        "# Definir función para cargar los datos\n",
        "def load_data():\n",
        "  data = []\n",
        "  labels = []\n",
        "  for folder in os.listdir('/content/free-spoken-digit-dataset-master/recordings/'):\n",
        "    for file in os.listdir('/content/free-spoken-digit-dataset-master/recordings/' + folder):\n",
        "      # Verificar si el elemento es un archivo de audio\n",
        "      if os.path.isfile('/content/free-spoken-digit-dataset-master/recordings/' + folder + '/' + file):\n",
        "        # Cargar archivo de audio\n",
        "        audio_path = '/content/free-spoken-digit-dataset-master/recordings/' + folder + '/' + file\n",
        "  signal, sr = librosa.load(audio_path)\n",
        "  # Convertir señal de audio en espectrograma\n",
        "  spectrogram = librosa.feature.melspectrogram(signal, sr=sr, n_fft=2048, hop_length=512, n_mels=128)\n",
        "  spectrogram = librosa.power_to_db(spectrogram, ref=np.max)\n",
        "  # Añadir espectrograma y etiqueta a los datos\n",
        "  data.append(spectrogram)\n",
        "  labels.append(int(folder))\n",
        "  # Convertir listas a numpy arrays\n",
        "  data = np.array(data)\n",
        "  labels = np.array(labels)\n",
        "  return data, labels\n",
        "\n",
        "# Cargar datos\n",
        "data, labels = load_data()\n",
        "\n",
        "# Dividir los datos en conjuntos de entrenamiento y prueba\n",
        "train_data, test_data, train_labels, test_labels = train_test_split(data, labels, test_size=0.2, random_state=42)\n",
        "\n",
        "# Crear modelo de red neuronal utilizando TensorFlow\n",
        "model = tf.keras.models.Sequential([\n",
        "tf.keras.layers.Input(shape=(128, 32, 1)),\n",
        "tf.keras.layers.Conv2D(filters=32, kernel_size=(3, 3), activation='relu', padding='same'),\n",
        "tf.keras.layers.MaxPooling2D(pool_size=(2, 2)),\n",
        "tf.keras.layers.Conv2D(filters=64, kernel_size=(3, 3), activation='relu', padding='same'),\n",
        "tf.keras.layers.MaxPooling2D(pool_size=(2, 2)),\n",
        "tf.keras.layers.Conv2D(filters=128, kernel_size=(3, 3), activation='relu', padding='same'),\n",
        "tf.keras.layers.MaxPooling2D(pool_size=(2, 2)),\n",
        "tf.keras.layers.Flatten(),\n",
        "tf.keras.layers.Dense(512, activation='relu'),\n",
        "tf.keras.layers.Dense(256, activation='relu'),\n",
        "tf.keras.layers.Dense(128, activation='relu'),\n",
        "tf.keras.layers.Dense(10, activation='softmax')\n",
        "])\n",
        "\n",
        "# Compilar el modelo\n",
        "model.compile(loss='categorical_crossentropy', optimizer='adam', metrics=['accuracy'])\n",
        "\n",
        "# Entrenar el modelo\n",
        "model.fit(train_data, train_labels, batch_size=32, epochs=10, validation_data=(test_data, test_labels))\n",
        "\n",
        "# Evaluar el modelo\n",
        "loss, accuracy = model.evaluate(test_data, test_labels)\n",
        "print(f'Loss: {loss:.3f}, Accuracy: {accuracy:.3f}')"
      ],
      "metadata": {
        "id": "51baLSakBLeX"
      },
      "execution_count": null,
      "outputs": []
    }
  ]
}